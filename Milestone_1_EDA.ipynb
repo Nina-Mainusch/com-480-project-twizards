{
 "cells": [
  {
   "cell_type": "markdown",
   "metadata": {},
   "source": [
    "## Exploratory Data Analysis"
   ]
  },
  {
   "cell_type": "markdown",
   "metadata": {},
   "source": [
    "### Import libraries\n"
   ]
  },
  {
   "cell_type": "code",
   "execution_count": 1,
   "metadata": {
    "scrolled": true
   },
   "outputs": [],
   "source": [
    "import glob\n",
    "import pandas as pd\n",
    "import numpy as np\n",
    "import seaborn as sns\n",
    "import plotly.express as px\n",
    "import matplotlib.pyplot as plt\n",
    "from ipywidgets import interactive, widgets, interact\n",
    "\n",
    "import warnings\n",
    "warnings.filterwarnings('ignore')"
   ]
  },
  {
   "cell_type": "markdown",
   "metadata": {},
   "source": [
    "### Load the data"
   ]
  },
  {
   "cell_type": "code",
   "execution_count": 2,
   "metadata": {},
   "outputs": [],
   "source": [
    "def load_data(path, language = \"\"):\n",
    "    filenames = glob.glob(path + \"/*.csv\")\n",
    "    dfs = []\n",
    "    for filename in filenames:\n",
    "        dfs.append(pd.read_csv(filename))\n",
    "\n",
    "    # concatenate all data into one DataFrame\n",
    "    df = pd.concat(dfs, ignore_index=True).dropna(axis=1)\n",
    "    # drop empty and single value columns \n",
    "    df = df.loc[:,df.apply(pd.Series.nunique) != 1]\n",
    "    # create a datetime column\n",
    "    df[\"date\"] = pd.to_datetime(df['year'].astype(str)  + df['month'], format='%Y%B')\n",
    "    df = df.drop(['year', 'month'], axis=1)\n",
    "    df = df.rename(columns={\"url\": \"channel\"})\n",
    "    \n",
    "    # Select only relevant columns\n",
    "    df_final = df[[\"channel\", \"date\", \"viewminutes\"]]\n",
    "    \n",
    "    # Add language\n",
    "    if language != \"\": df_final[\"language\"] = language \n",
    "    \n",
    "    \n",
    "    return df_final"
   ]
  },
  {
   "cell_type": "code",
   "execution_count": 3,
   "metadata": {},
   "outputs": [],
   "source": [
    "english = load_data(r'/home/mogan/Desktop/English', 'English')\n",
    "french = load_data(r'/home/mogan/Desktop/French', 'French')\n",
    "german = load_data(r'/home/mogan/Desktop/German', 'German')\n",
    "italian = load_data(r'/home/mogan/Desktop/Italian', 'Italian')\n",
    "all_ = load_data(r'/home/mogan/Desktop/All')\n",
    "\n",
    "# For chess we need the data with the languages annotated\n",
    "en_fr_ge_it = english.append(german).append(french).append(italian)\n",
    "en_fr_ge_it = en_fr_ge_it.set_index(np.arange(len(en_fr_ge_it)))"
   ]
  },
  {
   "cell_type": "markdown",
   "metadata": {},
   "source": [
    "### Some basic stats about our dataset (all languages together)"
   ]
  },
  {
   "cell_type": "code",
   "execution_count": 4,
   "metadata": {
    "scrolled": true
   },
   "outputs": [
    {
     "data": {
      "text/html": [
       "<div>\n",
       "<style scoped>\n",
       "    .dataframe tbody tr th:only-of-type {\n",
       "        vertical-align: middle;\n",
       "    }\n",
       "\n",
       "    .dataframe tbody tr th {\n",
       "        vertical-align: top;\n",
       "    }\n",
       "\n",
       "    .dataframe thead th {\n",
       "        text-align: right;\n",
       "    }\n",
       "</style>\n",
       "<table border=\"1\" class=\"dataframe\">\n",
       "  <thead>\n",
       "    <tr style=\"text-align: right;\">\n",
       "      <th></th>\n",
       "      <th>viewminutes</th>\n",
       "      <th>logviewminutes</th>\n",
       "    </tr>\n",
       "  </thead>\n",
       "  <tbody>\n",
       "    <tr>\n",
       "      <th>count</th>\n",
       "      <td>1.234224e+06</td>\n",
       "      <td>1.234224e+06</td>\n",
       "    </tr>\n",
       "    <tr>\n",
       "      <th>mean</th>\n",
       "      <td>2.761904e+06</td>\n",
       "      <td>7.861253e+00</td>\n",
       "    </tr>\n",
       "    <tr>\n",
       "      <th>std</th>\n",
       "      <td>9.208077e+07</td>\n",
       "      <td>3.393106e+00</td>\n",
       "    </tr>\n",
       "    <tr>\n",
       "      <th>min</th>\n",
       "      <td>0.000000e+00</td>\n",
       "      <td>0.000000e+00</td>\n",
       "    </tr>\n",
       "    <tr>\n",
       "      <th>25%</th>\n",
       "      <td>3.000000e+02</td>\n",
       "      <td>5.707110e+00</td>\n",
       "    </tr>\n",
       "    <tr>\n",
       "      <th>50%</th>\n",
       "      <td>1.860000e+03</td>\n",
       "      <td>7.528869e+00</td>\n",
       "    </tr>\n",
       "    <tr>\n",
       "      <th>75%</th>\n",
       "      <td>1.956000e+04</td>\n",
       "      <td>9.881293e+00</td>\n",
       "    </tr>\n",
       "    <tr>\n",
       "      <th>max</th>\n",
       "      <td>2.067312e+10</td>\n",
       "      <td>2.375210e+01</td>\n",
       "    </tr>\n",
       "  </tbody>\n",
       "</table>\n",
       "</div>"
      ],
      "text/plain": [
       "        viewminutes  logviewminutes\n",
       "count  1.234224e+06    1.234224e+06\n",
       "mean   2.761904e+06    7.861253e+00\n",
       "std    9.208077e+07    3.393106e+00\n",
       "min    0.000000e+00    0.000000e+00\n",
       "25%    3.000000e+02    5.707110e+00\n",
       "50%    1.860000e+03    7.528869e+00\n",
       "75%    1.956000e+04    9.881293e+00\n",
       "max    2.067312e+10    2.375210e+01"
      ]
     },
     "execution_count": 4,
     "metadata": {},
     "output_type": "execute_result"
    }
   ],
   "source": [
    "all_[\"logviewminutes\"] = np.log(all_['viewminutes']+1)\n",
    "all_.describe()"
   ]
  },
  {
   "cell_type": "code",
   "execution_count": 5,
   "metadata": {},
   "outputs": [
    {
     "data": {
      "text/html": [
       "<div>\n",
       "<style scoped>\n",
       "    .dataframe tbody tr th:only-of-type {\n",
       "        vertical-align: middle;\n",
       "    }\n",
       "\n",
       "    .dataframe tbody tr th {\n",
       "        vertical-align: top;\n",
       "    }\n",
       "\n",
       "    .dataframe thead th {\n",
       "        text-align: right;\n",
       "    }\n",
       "</style>\n",
       "<table border=\"1\" class=\"dataframe\">\n",
       "  <thead>\n",
       "    <tr style=\"text-align: right;\">\n",
       "      <th></th>\n",
       "      <th></th>\n",
       "      <th>viewminutes</th>\n",
       "      <th>logviewminutes</th>\n",
       "    </tr>\n",
       "    <tr>\n",
       "      <th>date</th>\n",
       "      <th>channel</th>\n",
       "      <th></th>\n",
       "      <th></th>\n",
       "    </tr>\n",
       "  </thead>\n",
       "  <tbody>\n",
       "    <tr>\n",
       "      <th rowspan=\"5\" valign=\"top\">2021-03-01</th>\n",
       "      <th>Just_Chatting</th>\n",
       "      <td>16223722140</td>\n",
       "      <td>23.509740</td>\n",
       "    </tr>\n",
       "    <tr>\n",
       "      <th>Grand_Theft_Auto_V</th>\n",
       "      <td>11074670280</td>\n",
       "      <td>23.127926</td>\n",
       "    </tr>\n",
       "    <tr>\n",
       "      <th>League_of_Legends</th>\n",
       "      <td>8987191080</td>\n",
       "      <td>22.919066</td>\n",
       "    </tr>\n",
       "    <tr>\n",
       "      <th>Fortnite</th>\n",
       "      <td>7040576820</td>\n",
       "      <td>22.674956</td>\n",
       "    </tr>\n",
       "    <tr>\n",
       "      <th>Call_of_Duty_Modern_Warfare</th>\n",
       "      <td>5456146920</td>\n",
       "      <td>22.420009</td>\n",
       "    </tr>\n",
       "  </tbody>\n",
       "</table>\n",
       "</div>"
      ],
      "text/plain": [
       "                                        viewminutes  logviewminutes\n",
       "date       channel                                                 \n",
       "2021-03-01 Just_Chatting                16223722140       23.509740\n",
       "           Grand_Theft_Auto_V           11074670280       23.127926\n",
       "           League_of_Legends             8987191080       22.919066\n",
       "           Fortnite                      7040576820       22.674956\n",
       "           Call_of_Duty_Modern_Warfare   5456146920       22.420009"
      ]
     },
     "execution_count": 5,
     "metadata": {},
     "output_type": "execute_result"
    }
   ],
   "source": [
    "all_.groupby([\"date\", \"channel\"]).sum().sort_values(by=[\"date\", \"viewminutes\"], ascending = False).head(5)\n"
   ]
  },
  {
   "cell_type": "markdown",
   "metadata": {},
   "source": [
    "### Extract the n most popular channels over all languages"
   ]
  },
  {
   "cell_type": "code",
   "execution_count": 6,
   "metadata": {},
   "outputs": [],
   "source": [
    "def get_n_most_popular(df, n = 5, language = True):\n",
    "    top_n = all_.groupby(\"channel\").sum()[\"viewminutes\"].sort_values(ascending=False).head(n)\n",
    "    top_n = list(top_n.index.values)\n",
    "    if language:\n",
    "        temp = df[df['channel'].isin(top_n)][['viewminutes','date','channel', 'language']].sort_values(by=[\"channel\"])\n",
    "    else:\n",
    "        temp = df[df['channel'].isin(top_n)][['viewminutes','date','channel']].sort_values(by=[\"channel\"])\n",
    "        \n",
    "    log_x=True\n",
    "    return temp"
   ]
  },
  {
   "cell_type": "code",
   "execution_count": 7,
   "metadata": {
    "scrolled": true
   },
   "outputs": [],
   "source": [
    "n = 5\n",
    "pop_en_fr_ge = get_n_most_popular(en_fr_ge_it, n)\n",
    "pop_all = get_n_most_popular(all_, n, language = False)\n",
    "pop_all['language'] = \"All\"\n",
    "\n",
    "# append for plotting\n",
    "pop = pop_en_fr_ge.append(pop_all)"
   ]
  },
  {
   "cell_type": "markdown",
   "metadata": {},
   "source": [
    "### Plot time series of most popular channels"
   ]
  },
  {
   "cell_type": "code",
   "execution_count": 8,
   "metadata": {},
   "outputs": [],
   "source": [
    "def plot_most_popular(language):\n",
    "    if not language:\n",
    "        return\n",
    "    \n",
    "    df = pop[pop.language.isin([language[0]])]\n",
    "    df = df.drop_duplicates(keep='first')\n",
    "    df = df.pivot(index='date', columns='channel', values = 'viewminutes')\n",
    "\n",
    "    fig = px.line(df)\n",
    "    fig.update_layout(hovermode=\"x\")\n",
    "    fig.update_layout(\n",
    "    title=f\"Viewminutes of the most popular channels on Twitch.tv in {language[0]}\",\n",
    "    xaxis_title=\"Year\",\n",
    "    yaxis_title=\"Viewminutes\",\n",
    "    legend_title=\"Channel\",\n",
    "    )\n",
    "    # lockdown start italy\n",
    "    fig.add_vline(x=\"2020-03-09\")\n",
    "    fig.add_annotation(\n",
    "    x=\"2020-03-09\",\n",
    "    y=100,\n",
    "    text=\"Lockdowns in Europe start\",\n",
    "    textangle=-90\n",
    "    )\n",
    "    \n",
    "    fig.show()"
   ]
  },
  {
   "cell_type": "code",
   "execution_count": 9,
   "metadata": {},
   "outputs": [
    {
     "data": {
      "application/vnd.jupyter.widget-view+json": {
       "model_id": "b55c9db938fb437e8e697fa93703ca4c",
       "version_major": 2,
       "version_minor": 0
      },
      "text/plain": [
       "interactive(children=(SelectMultiple(description='Languages: ', options=('All', 'English', 'French', 'German',…"
      ]
     },
     "metadata": {},
     "output_type": "display_data"
    }
   ],
   "source": [
    "language_selector = widgets.SelectMultiple(\n",
    "    options = np.sort(pop.language.unique()),\n",
    "    description = 'Languages: '\n",
    ")\n",
    "\n",
    "_ = interact(plot_most_popular, language = language_selector)"
   ]
  },
  {
   "cell_type": "markdown",
   "metadata": {},
   "source": [
    "### Plot timeseries of Chess"
   ]
  },
  {
   "cell_type": "code",
   "execution_count": null,
   "metadata": {},
   "outputs": [],
   "source": [
    "def plot_chess(df):\n",
    "    chess_s = df[df[\"channel\"] == 'Chess'][[\"viewminutes\", \"date\", 'language']]\n",
    "    chess_s = chess_s.sort_values(by=[\"date\"])#.set_index(\"date\")\n",
    "    chess_s = chess_s.drop_duplicates(keep='first')\n",
    "    chess_s = chess_s.pivot(index='date', columns='language', values = 'viewminutes')\n",
    "    \n",
    "    # compute over all languages\n",
    "    chess_a = all_[all_[\"channel\"] == 'Chess']\n",
    "    chess_a = chess_a.sort_values(by=[\"date\"])#.set_index(\"date\")\n",
    "    chess_a = chess_a.drop_duplicates(keep='first')\n",
    "    chess_a = chess_a.pivot(index='date', columns='channel', values = 'viewminutes')\n",
    "    \n",
    "    # merge and reorder and rename for plotting\n",
    "    chess = pd.merge(chess_s, chess_a, left_index = True, right_index = True)\n",
    "    chess = chess.rename({\"Chess\":\"All\"}, axis='columns')\n",
    "    chess = chess[[\"All\", \"English\", \"French\", \"German\", \"Italian\"]]\n",
    "    \n",
    "    fig = px.line(chess)\n",
    "    fig.update_layout(hovermode=\"x\")\n",
    "    fig.update_layout(\n",
    "    title=f\"Viewminutes of the Chess channel on Twitch.tv in different languages\",\n",
    "    xaxis_title=\"Year\",\n",
    "    yaxis_title=\"Viewminutes\",\n",
    "    legend_title=\"Language\",\n",
    "    )\n",
    "    \n",
    "    # day of Queen's Gambit TV Show release\n",
    "    fig.add_vline(x=\"2020-10-23\")\n",
    "    fig.add_annotation(x=\"2020-10-23\", y=100,\n",
    "            text=\"Release of Queen's Gambit\",\n",
    "            textangle=-90)\n",
    "    \n",
    "    # lockdown start italy\n",
    "    fig.add_vline(x=\"2020-03-09\")\n",
    "    fig.add_annotation(\n",
    "    x=\"2020-03-09\",\n",
    "    y=100,\n",
    "    text=\"Lockdowns in Europe start\",\n",
    "    textangle=-90\n",
    "    )\n",
    "    return fig"
   ]
  },
  {
   "cell_type": "code",
   "execution_count": null,
   "metadata": {
    "scrolled": false
   },
   "outputs": [],
   "source": [
    "chess_fig = plot_chess(en_fr_ge_it)\n",
    "chess_fig"
   ]
  },
  {
   "cell_type": "code",
   "execution_count": null,
   "metadata": {},
   "outputs": [],
   "source": []
  }
 ],
 "metadata": {
  "kernelspec": {
   "display_name": "Python 3",
   "language": "python",
   "name": "python3"
  },
  "language_info": {
   "codemirror_mode": {
    "name": "ipython",
    "version": 3
   },
   "file_extension": ".py",
   "mimetype": "text/x-python",
   "name": "python",
   "nbconvert_exporter": "python",
   "pygments_lexer": "ipython3",
   "version": "3.7.2"
  }
 },
 "nbformat": 4,
 "nbformat_minor": 4
}
